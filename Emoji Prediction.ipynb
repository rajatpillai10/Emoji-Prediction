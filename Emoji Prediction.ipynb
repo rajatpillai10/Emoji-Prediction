{
 "cells": [
  {
   "cell_type": "code",
   "execution_count": 153,
   "metadata": {},
   "outputs": [],
   "source": [
    "# Emoji Prediction using Transfer Learning & LSTM"
   ]
  },
  {
   "cell_type": "code",
   "execution_count": 154,
   "metadata": {},
   "outputs": [],
   "source": [
    "import emoji\n",
    "import numpy as np\n",
    "import pandas as pd"
   ]
  },
  {
   "cell_type": "code",
   "execution_count": 155,
   "metadata": {},
   "outputs": [],
   "source": [
    "#emoji.EMOJI_ALIAS_UNICODE"
   ]
  },
  {
   "cell_type": "code",
   "execution_count": 156,
   "metadata": {},
   "outputs": [],
   "source": [
    "emoji_dictionary = {\"0\": \"\\u2764\\uFE0F\",    # :heart: prints a black instead of red heart depending on the font\n",
    "                    \"1\": \":baseball:\",\n",
    "                    \"2\": \":grinning_face_with_smiling_eyes:\",\n",
    "                    \"3\": \":disappointed_face:\",\n",
    "                    \"4\": \":fork_and_knife:\",\n",
    "                    \"5\": \":hundred_points:\",\n",
    "                    \"6\": \":fire:\",\n",
    "                    \"7\": \":face_blowing_a_kiss:\",\n",
    "                    \"8\": \":chestnut:\",\n",
    "                    \"9\": \":flexed_biceps:\",\n",
    "                   }"
   ]
  },
  {
   "cell_type": "code",
   "execution_count": 157,
   "metadata": {},
   "outputs": [
    {
     "data": {
      "text/plain": [
       "'🍴'"
      ]
     },
     "execution_count": 157,
     "metadata": {},
     "output_type": "execute_result"
    }
   ],
   "source": [
    "emoji.emojize(\":fork_and_knife:\")"
   ]
  },
  {
   "cell_type": "code",
   "execution_count": 158,
   "metadata": {},
   "outputs": [
    {
     "name": "stdout",
     "output_type": "stream",
     "text": [
      "❤️\n",
      "⚾\n",
      "😄\n",
      "😞\n",
      "🍴\n",
      "💯\n",
      "🔥\n",
      "😘\n",
      "🌰\n",
      "💪\n"
     ]
    }
   ],
   "source": [
    "for e in emoji_dictionary.values():\n",
    "    print(emoji.emojize(e))\n"
   ]
  },
  {
   "cell_type": "code",
   "execution_count": 159,
   "metadata": {},
   "outputs": [
    {
     "name": "stdout",
     "output_type": "stream",
     "text": [
      "(132, 4)\n"
     ]
    }
   ],
   "source": [
    "train = pd.read_csv('dataset/train_emoji.csv',header=None)\n",
    "test = pd.read_csv('dataset/test_emoji.csv',header=None)\n",
    "data = train.values\n",
    "print(data.shape)"
   ]
  },
  {
   "cell_type": "code",
   "execution_count": 160,
   "metadata": {},
   "outputs": [
    {
     "data": {
      "text/html": [
       "<div>\n",
       "<style scoped>\n",
       "    .dataframe tbody tr th:only-of-type {\n",
       "        vertical-align: middle;\n",
       "    }\n",
       "\n",
       "    .dataframe tbody tr th {\n",
       "        vertical-align: top;\n",
       "    }\n",
       "\n",
       "    .dataframe thead th {\n",
       "        text-align: right;\n",
       "    }\n",
       "</style>\n",
       "<table border=\"1\" class=\"dataframe\">\n",
       "  <thead>\n",
       "    <tr style=\"text-align: right;\">\n",
       "      <th></th>\n",
       "      <th>0</th>\n",
       "      <th>1</th>\n",
       "      <th>2</th>\n",
       "      <th>3</th>\n",
       "    </tr>\n",
       "  </thead>\n",
       "  <tbody>\n",
       "    <tr>\n",
       "      <th>0</th>\n",
       "      <td>never talk to me again</td>\n",
       "      <td>3</td>\n",
       "      <td>NaN</td>\n",
       "      <td>NaN</td>\n",
       "    </tr>\n",
       "    <tr>\n",
       "      <th>1</th>\n",
       "      <td>I am proud of your achievements</td>\n",
       "      <td>2</td>\n",
       "      <td>NaN</td>\n",
       "      <td>NaN</td>\n",
       "    </tr>\n",
       "    <tr>\n",
       "      <th>2</th>\n",
       "      <td>It is the worst day in my life</td>\n",
       "      <td>3</td>\n",
       "      <td>NaN</td>\n",
       "      <td>NaN</td>\n",
       "    </tr>\n",
       "    <tr>\n",
       "      <th>3</th>\n",
       "      <td>Miss you so much</td>\n",
       "      <td>0</td>\n",
       "      <td>NaN</td>\n",
       "      <td>[0]</td>\n",
       "    </tr>\n",
       "    <tr>\n",
       "      <th>4</th>\n",
       "      <td>food is life</td>\n",
       "      <td>4</td>\n",
       "      <td>NaN</td>\n",
       "      <td>NaN</td>\n",
       "    </tr>\n",
       "  </tbody>\n",
       "</table>\n",
       "</div>"
      ],
      "text/plain": [
       "                                 0  1   2     3\n",
       "0           never talk to me again  3 NaN   NaN\n",
       "1  I am proud of your achievements  2 NaN   NaN\n",
       "2   It is the worst day in my life  3 NaN   NaN\n",
       "3                 Miss you so much  0 NaN   [0]\n",
       "4                     food is life  4 NaN   NaN"
      ]
     },
     "execution_count": 160,
     "metadata": {},
     "output_type": "execute_result"
    }
   ],
   "source": [
    "train.head()"
   ]
  },
  {
   "cell_type": "code",
   "execution_count": 161,
   "metadata": {},
   "outputs": [
    {
     "name": "stdout",
     "output_type": "stream",
     "text": [
      "never talk to me again 😞\n",
      "I am proud of your achievements 😄\n",
      "It is the worst day in my life 😞\n",
      "Miss you so much ❤️\n",
      "food is life 🍴\n",
      "I love you mum ❤️\n",
      "Stop saying bullshit 😞\n",
      "congratulations on your acceptance 😄\n",
      "The assignment is too long  😞\n",
      "I want to go play ⚾\n"
     ]
    }
   ],
   "source": [
    "X_train = train[0]\n",
    "Y_train = train[1]\n",
    "X_test = test[0]\n",
    "Y_test = test[1]\n",
    "for i in range(10):\n",
    "    print(data[i][0],emoji.emojize(emoji_dictionary[str(data[i][1])]))"
   ]
  },
  {
   "cell_type": "code",
   "execution_count": 162,
   "metadata": {},
   "outputs": [],
   "source": [
    "# Converting sentences into Embeddings using Glove 6B.50d.txt"
   ]
  },
  {
   "cell_type": "code",
   "execution_count": 163,
   "metadata": {},
   "outputs": [],
   "source": [
    "f = open('glove.6B.50d.txt',encoding='utf-8')"
   ]
  },
  {
   "cell_type": "code",
   "execution_count": 164,
   "metadata": {},
   "outputs": [],
   "source": [
    "embeddings_index = {}\n",
    "for line in f:\n",
    "        values = line.split()\n",
    "        word = values[0]\n",
    "        coeffs = np.asarray(values[1:],dtype='float32')\n",
    "        \n",
    "        #print(word)\n",
    "        #print(coeffs)\n",
    "        embeddings_index[word] = coeffs\n",
    "f.close()        \n",
    "        "
   ]
  },
  {
   "cell_type": "code",
   "execution_count": 165,
   "metadata": {},
   "outputs": [
    {
     "data": {
      "text/plain": [
       "(50,)"
      ]
     },
     "execution_count": 165,
     "metadata": {},
     "output_type": "execute_result"
    }
   ],
   "source": [
    "embeddings_index[\"eat\"]\n",
    "embeddings_index[\"eat\"].shape"
   ]
  },
  {
   "cell_type": "code",
   "execution_count": 166,
   "metadata": {},
   "outputs": [],
   "source": [
    "emb_dim = embeddings_index[\"eat\"].shape[0]"
   ]
  },
  {
   "cell_type": "code",
   "execution_count": 167,
   "metadata": {},
   "outputs": [],
   "source": [
    "# Converting sentences into vectors (Embedding Layer Output)"
   ]
  },
  {
   "cell_type": "code",
   "execution_count": 168,
   "metadata": {},
   "outputs": [],
   "source": [
    "def embedding_output(X):\n",
    "    maxLen = 10\n",
    "    embedding_out = np.zeros((X.shape[0],maxLen,emb_dim))\n",
    "    for ix in range(X.shape[0]):\n",
    "        X[ix] = X[ix].split()\n",
    "        for jx in range(len(X[ix])):\n",
    "            # every word in the current(ix) sentence\n",
    "            embedding_out[ix][jx] = embeddings_index[X[ix][jx].lower()]\n",
    "            \n",
    "    return embedding_out"
   ]
  },
  {
   "cell_type": "code",
   "execution_count": 169,
   "metadata": {},
   "outputs": [
    {
     "name": "stderr",
     "output_type": "stream",
     "text": [
      "<ipython-input-168-7d81e7756281>:5: SettingWithCopyWarning: \n",
      "A value is trying to be set on a copy of a slice from a DataFrame\n",
      "\n",
      "See the caveats in the documentation: https://pandas.pydata.org/pandas-docs/stable/user_guide/indexing.html#returning-a-view-versus-a-copy\n",
      "  X[ix] = X[ix].split()\n"
     ]
    }
   ],
   "source": [
    "embedding_matrix_train = embedding_output(X_train)\n",
    "embedding_matrix_test = embedding_output(X_test)"
   ]
  },
  {
   "cell_type": "code",
   "execution_count": 170,
   "metadata": {},
   "outputs": [
    {
     "name": "stdout",
     "output_type": "stream",
     "text": [
      "['never', 'talk', 'to', 'me', 'again']\n",
      "5\n",
      "(132, 10, 50)\n",
      "(56, 10, 50)\n"
     ]
    }
   ],
   "source": [
    "print(X_train[0])\n",
    "print(len(X_train[0]))\n",
    "print(embedding_matrix_train.shape)\n",
    "print(embedding_matrix_test.shape)"
   ]
  },
  {
   "cell_type": "code",
   "execution_count": 171,
   "metadata": {},
   "outputs": [],
   "source": [
    "from keras.utils import to_categorical"
   ]
  },
  {
   "cell_type": "code",
   "execution_count": 172,
   "metadata": {},
   "outputs": [
    {
     "name": "stdout",
     "output_type": "stream",
     "text": [
      "(132, 5)\n"
     ]
    }
   ],
   "source": [
    "Y_train = to_categorical(Y_train,num_classes=5)\n",
    "Y_test = to_categorical(Y_test,num_classes=5)\n",
    "print(Y_train.shape)\n",
    "#print(Y_test[0])"
   ]
  },
  {
   "cell_type": "code",
   "execution_count": 173,
   "metadata": {},
   "outputs": [],
   "source": [
    "# Define the RNN/LSTM Model"
   ]
  },
  {
   "cell_type": "code",
   "execution_count": 174,
   "metadata": {},
   "outputs": [],
   "source": [
    "from keras.layers import *\n",
    "from keras.models import Sequential"
   ]
  },
  {
   "cell_type": "code",
   "execution_count": 180,
   "metadata": {},
   "outputs": [
    {
     "name": "stdout",
     "output_type": "stream",
     "text": [
      "Model: \"sequential_11\"\n",
      "_________________________________________________________________\n",
      "Layer (type)                 Output Shape              Param #   \n",
      "=================================================================\n",
      "lstm_16 (LSTM)               (None, 10, 64)            29440     \n",
      "_________________________________________________________________\n",
      "dropout_16 (Dropout)         (None, 10, 64)            0         \n",
      "_________________________________________________________________\n",
      "lstm_17 (LSTM)               (None, 64)                33024     \n",
      "_________________________________________________________________\n",
      "dropout_17 (Dropout)         (None, 64)                0         \n",
      "_________________________________________________________________\n",
      "dense_11 (Dense)             (None, 5)                 325       \n",
      "_________________________________________________________________\n",
      "activation_11 (Activation)   (None, 5)                 0         \n",
      "=================================================================\n",
      "Total params: 62,789\n",
      "Trainable params: 62,789\n",
      "Non-trainable params: 0\n",
      "_________________________________________________________________\n"
     ]
    }
   ],
   "source": [
    "model = Sequential()\n",
    "model.add(LSTM(64,input_shape=(10,50),return_sequences=True))\n",
    "model.add(Dropout(0.5))\n",
    "model.add(LSTM(64,input_shape=(10,50),return_sequences=False))\n",
    "model.add(Dropout(0.3))\n",
    "model.add(Dense(5))\n",
    "model.add(Activation('softmax'))\n",
    "model.compile(optimizer='adam',loss='categorical_crossentropy',metrics=['acc'])\n",
    "model.summary()"
   ]
  },
  {
   "cell_type": "code",
   "execution_count": 181,
   "metadata": {},
   "outputs": [
    {
     "name": "stdout",
     "output_type": "stream",
     "text": [
      "Epoch 1/150\n",
      "2/2 [==============================] - 2s 931ms/step - loss: 1.6178 - acc: 0.2381 - val_loss: 1.6034 - val_acc: 0.1852\n",
      "Epoch 2/150\n",
      "2/2 [==============================] - 0s 25ms/step - loss: 1.5732 - acc: 0.3048 - val_loss: 1.6038 - val_acc: 0.1852\n",
      "Epoch 3/150\n",
      "2/2 [==============================] - 0s 21ms/step - loss: 1.5226 - acc: 0.3429 - val_loss: 1.6161 - val_acc: 0.1481\n",
      "Epoch 4/150\n",
      "2/2 [==============================] - 0s 22ms/step - loss: 1.4919 - acc: 0.3810 - val_loss: 1.6373 - val_acc: 0.1852\n",
      "Epoch 5/150\n",
      "2/2 [==============================] - 0s 21ms/step - loss: 1.4803 - acc: 0.4000 - val_loss: 1.6546 - val_acc: 0.1481\n",
      "Epoch 6/150\n",
      "2/2 [==============================] - 0s 21ms/step - loss: 1.4327 - acc: 0.3524 - val_loss: 1.6719 - val_acc: 0.1481\n",
      "Epoch 7/150\n",
      "2/2 [==============================] - 0s 23ms/step - loss: 1.4091 - acc: 0.4381 - val_loss: 1.6780 - val_acc: 0.1481\n",
      "Epoch 8/150\n",
      "2/2 [==============================] - 0s 21ms/step - loss: 1.4015 - acc: 0.4190 - val_loss: 1.6661 - val_acc: 0.1852\n",
      "Epoch 9/150\n",
      "2/2 [==============================] - 0s 22ms/step - loss: 1.3710 - acc: 0.4286 - val_loss: 1.6310 - val_acc: 0.2222\n",
      "Epoch 10/150\n",
      "2/2 [==============================] - 0s 22ms/step - loss: 1.3424 - acc: 0.4190 - val_loss: 1.5765 - val_acc: 0.1852\n",
      "Epoch 11/150\n",
      "2/2 [==============================] - 0s 25ms/step - loss: 1.2964 - acc: 0.4381 - val_loss: 1.5186 - val_acc: 0.2222\n",
      "Epoch 12/150\n",
      "2/2 [==============================] - 0s 25ms/step - loss: 1.2338 - acc: 0.5238 - val_loss: 1.4538 - val_acc: 0.2593\n",
      "Epoch 13/150\n",
      "2/2 [==============================] - 0s 23ms/step - loss: 1.1913 - acc: 0.5333 - val_loss: 1.3981 - val_acc: 0.4074\n",
      "Epoch 14/150\n",
      "2/2 [==============================] - 0s 23ms/step - loss: 1.1465 - acc: 0.5714 - val_loss: 1.3523 - val_acc: 0.4444\n",
      "Epoch 15/150\n",
      "2/2 [==============================] - 0s 22ms/step - loss: 1.0914 - acc: 0.6095 - val_loss: 1.3220 - val_acc: 0.4815\n",
      "Epoch 16/150\n",
      "2/2 [==============================] - 0s 24ms/step - loss: 1.0227 - acc: 0.6476 - val_loss: 1.2837 - val_acc: 0.4815\n",
      "Epoch 17/150\n",
      "2/2 [==============================] - 0s 21ms/step - loss: 0.9821 - acc: 0.6095 - val_loss: 1.2549 - val_acc: 0.4815\n",
      "Epoch 18/150\n",
      "2/2 [==============================] - 0s 20ms/step - loss: 0.9325 - acc: 0.7048 - val_loss: 1.2245 - val_acc: 0.5185\n",
      "Epoch 19/150\n",
      "2/2 [==============================] - 0s 21ms/step - loss: 0.9033 - acc: 0.6952 - val_loss: 1.2392 - val_acc: 0.5926\n",
      "Epoch 20/150\n",
      "2/2 [==============================] - 0s 20ms/step - loss: 0.8486 - acc: 0.7048 - val_loss: 1.2544 - val_acc: 0.5926\n",
      "Epoch 21/150\n",
      "2/2 [==============================] - 0s 25ms/step - loss: 0.8145 - acc: 0.7143 - val_loss: 1.1895 - val_acc: 0.6667\n",
      "Epoch 22/150\n",
      "2/2 [==============================] - 0s 25ms/step - loss: 0.7900 - acc: 0.7238 - val_loss: 1.1348 - val_acc: 0.6296\n",
      "Epoch 23/150\n",
      "2/2 [==============================] - 0s 22ms/step - loss: 0.7005 - acc: 0.8095 - val_loss: 1.1460 - val_acc: 0.5926\n",
      "Epoch 24/150\n",
      "2/2 [==============================] - 0s 22ms/step - loss: 0.7050 - acc: 0.7238 - val_loss: 1.1469 - val_acc: 0.5556\n",
      "Epoch 25/150\n",
      "2/2 [==============================] - 0s 23ms/step - loss: 0.5929 - acc: 0.7905 - val_loss: 1.0520 - val_acc: 0.6667\n",
      "Epoch 26/150\n",
      "2/2 [==============================] - 0s 22ms/step - loss: 0.5503 - acc: 0.8381 - val_loss: 1.0012 - val_acc: 0.6296\n",
      "Epoch 27/150\n",
      "2/2 [==============================] - 0s 25ms/step - loss: 0.5921 - acc: 0.8000 - val_loss: 1.0494 - val_acc: 0.7037\n",
      "Epoch 28/150\n",
      "2/2 [==============================] - 0s 24ms/step - loss: 0.5337 - acc: 0.8190 - val_loss: 1.0438 - val_acc: 0.7037\n",
      "Epoch 29/150\n",
      "2/2 [==============================] - 0s 21ms/step - loss: 0.4825 - acc: 0.8667 - val_loss: 0.9677 - val_acc: 0.6667\n",
      "Epoch 30/150\n",
      "2/2 [==============================] - 0s 21ms/step - loss: 0.4874 - acc: 0.8286 - val_loss: 0.9267 - val_acc: 0.7037\n",
      "Epoch 31/150\n",
      "2/2 [==============================] - 0s 23ms/step - loss: 0.3899 - acc: 0.8667 - val_loss: 0.9279 - val_acc: 0.6296\n",
      "Epoch 32/150\n",
      "2/2 [==============================] - 0s 19ms/step - loss: 0.3701 - acc: 0.8571 - val_loss: 1.0376 - val_acc: 0.7037\n",
      "Epoch 33/150\n",
      "2/2 [==============================] - 0s 21ms/step - loss: 0.3882 - acc: 0.8667 - val_loss: 1.0025 - val_acc: 0.7037\n",
      "Epoch 34/150\n",
      "2/2 [==============================] - ETA: 0s - loss: 0.2653 - acc: 0.921 - 0s 20ms/step - loss: 0.2714 - acc: 0.9143 - val_loss: 1.0778 - val_acc: 0.7037\n",
      "Epoch 35/150\n",
      "2/2 [==============================] - 0s 23ms/step - loss: 0.3585 - acc: 0.8857 - val_loss: 1.0576 - val_acc: 0.7037\n",
      "Epoch 36/150\n",
      "2/2 [==============================] - 0s 20ms/step - loss: 0.2963 - acc: 0.9238 - val_loss: 0.9845 - val_acc: 0.7407\n",
      "Epoch 37/150\n",
      "2/2 [==============================] - 0s 24ms/step - loss: 0.2343 - acc: 0.9238 - val_loss: 1.1260 - val_acc: 0.6667\n",
      "Epoch 38/150\n",
      "2/2 [==============================] - 0s 26ms/step - loss: 0.3175 - acc: 0.8952 - val_loss: 0.9637 - val_acc: 0.7407\n",
      "Epoch 39/150\n",
      "2/2 [==============================] - 0s 19ms/step - loss: 0.2298 - acc: 0.9429 - val_loss: 1.1524 - val_acc: 0.7037\n",
      "Epoch 40/150\n",
      "2/2 [==============================] - 0s 25ms/step - loss: 0.3542 - acc: 0.8667 - val_loss: 0.9376 - val_acc: 0.7037\n",
      "Epoch 41/150\n",
      "2/2 [==============================] - 0s 22ms/step - loss: 0.2031 - acc: 0.9524 - val_loss: 1.1382 - val_acc: 0.6296\n",
      "Epoch 42/150\n",
      "2/2 [==============================] - 0s 18ms/step - loss: 0.2638 - acc: 0.9238 - val_loss: 1.0247 - val_acc: 0.6667\n",
      "Epoch 43/150\n",
      "2/2 [==============================] - 0s 21ms/step - loss: 0.1903 - acc: 0.9429 - val_loss: 0.9731 - val_acc: 0.7037\n",
      "Epoch 44/150\n",
      "2/2 [==============================] - 0s 19ms/step - loss: 0.1774 - acc: 0.9333 - val_loss: 1.0181 - val_acc: 0.7037\n",
      "Epoch 45/150\n",
      "2/2 [==============================] - 0s 22ms/step - loss: 0.1762 - acc: 0.9619 - val_loss: 1.0974 - val_acc: 0.6296\n",
      "Epoch 46/150\n",
      "2/2 [==============================] - 0s 21ms/step - loss: 0.1370 - acc: 0.9524 - val_loss: 1.2672 - val_acc: 0.5556\n",
      "Epoch 47/150\n",
      "2/2 [==============================] - 0s 23ms/step - loss: 0.1806 - acc: 0.9524 - val_loss: 1.2014 - val_acc: 0.6296\n",
      "Epoch 48/150\n",
      "2/2 [==============================] - 0s 22ms/step - loss: 0.1376 - acc: 0.9619 - val_loss: 1.1348 - val_acc: 0.6667\n",
      "Epoch 49/150\n",
      "2/2 [==============================] - 0s 22ms/step - loss: 0.1053 - acc: 0.9810 - val_loss: 1.1169 - val_acc: 0.7037\n",
      "Epoch 50/150\n",
      "2/2 [==============================] - 0s 22ms/step - loss: 0.1359 - acc: 0.9429 - val_loss: 1.0832 - val_acc: 0.6667\n",
      "Epoch 51/150\n",
      "2/2 [==============================] - 0s 21ms/step - loss: 0.1214 - acc: 0.9810 - val_loss: 1.3236 - val_acc: 0.6296\n",
      "Epoch 52/150\n",
      "2/2 [==============================] - 0s 20ms/step - loss: 0.1076 - acc: 0.9714 - val_loss: 1.2245 - val_acc: 0.6667\n",
      "Epoch 53/150\n",
      "2/2 [==============================] - 0s 20ms/step - loss: 0.1041 - acc: 0.9905 - val_loss: 1.0409 - val_acc: 0.7037\n",
      "Epoch 54/150\n",
      "2/2 [==============================] - 0s 23ms/step - loss: 0.1027 - acc: 0.9810 - val_loss: 1.0472 - val_acc: 0.7037\n",
      "Epoch 55/150\n",
      "2/2 [==============================] - 0s 17ms/step - loss: 0.0970 - acc: 0.9714 - val_loss: 1.1396 - val_acc: 0.7037\n",
      "Epoch 56/150\n",
      "2/2 [==============================] - 0s 22ms/step - loss: 0.0548 - acc: 1.0000 - val_loss: 1.3690 - val_acc: 0.6296\n",
      "Epoch 57/150\n",
      "2/2 [==============================] - 0s 22ms/step - loss: 0.0695 - acc: 1.0000 - val_loss: 1.3687 - val_acc: 0.6296\n",
      "Epoch 58/150\n",
      "2/2 [==============================] - 0s 21ms/step - loss: 0.0541 - acc: 1.0000 - val_loss: 1.2117 - val_acc: 0.7407\n",
      "Epoch 59/150\n",
      "2/2 [==============================] - 0s 19ms/step - loss: 0.0625 - acc: 0.9810 - val_loss: 1.2617 - val_acc: 0.6667\n",
      "Epoch 60/150\n",
      "2/2 [==============================] - 0s 19ms/step - loss: 0.0658 - acc: 0.9905 - val_loss: 1.3157 - val_acc: 0.6667\n",
      "Epoch 61/150\n",
      "2/2 [==============================] - 0s 22ms/step - loss: 0.0351 - acc: 1.0000 - val_loss: 1.4392 - val_acc: 0.6667\n",
      "Epoch 62/150\n",
      "2/2 [==============================] - 0s 20ms/step - loss: 0.0461 - acc: 1.0000 - val_loss: 1.5264 - val_acc: 0.6667\n",
      "Epoch 63/150\n"
     ]
    },
    {
     "name": "stdout",
     "output_type": "stream",
     "text": [
      "2/2 [==============================] - 0s 22ms/step - loss: 0.0342 - acc: 1.0000 - val_loss: 1.5556 - val_acc: 0.6296\n",
      "Epoch 64/150\n",
      "2/2 [==============================] - 0s 20ms/step - loss: 0.0319 - acc: 1.0000 - val_loss: 1.5208 - val_acc: 0.6667\n",
      "Epoch 65/150\n",
      "2/2 [==============================] - 0s 19ms/step - loss: 0.0446 - acc: 0.9810 - val_loss: 1.3920 - val_acc: 0.7037\n",
      "Epoch 66/150\n",
      "2/2 [==============================] - 0s 19ms/step - loss: 0.0237 - acc: 1.0000 - val_loss: 1.2435 - val_acc: 0.7407\n",
      "Epoch 67/150\n",
      "2/2 [==============================] - 0s 24ms/step - loss: 0.0278 - acc: 0.9905 - val_loss: 1.1823 - val_acc: 0.7407\n",
      "Epoch 68/150\n",
      "2/2 [==============================] - ETA: 0s - loss: 0.0245 - acc: 0.984 - 0s 23ms/step - loss: 0.0296 - acc: 0.9905 - val_loss: 1.2164 - val_acc: 0.7407\n",
      "Epoch 69/150\n",
      "2/2 [==============================] - 0s 22ms/step - loss: 0.0195 - acc: 1.0000 - val_loss: 1.2942 - val_acc: 0.7407\n",
      "Epoch 70/150\n",
      "2/2 [==============================] - 0s 23ms/step - loss: 0.0457 - acc: 0.9905 - val_loss: 1.5090 - val_acc: 0.6667\n",
      "Epoch 71/150\n",
      "2/2 [==============================] - 0s 22ms/step - loss: 0.0241 - acc: 1.0000 - val_loss: 1.7484 - val_acc: 0.6296\n",
      "Epoch 72/150\n",
      "2/2 [==============================] - 0s 21ms/step - loss: 0.0856 - acc: 0.9524 - val_loss: 1.6351 - val_acc: 0.6296\n",
      "Epoch 73/150\n",
      "2/2 [==============================] - 0s 20ms/step - loss: 0.0240 - acc: 1.0000 - val_loss: 1.5109 - val_acc: 0.6667\n",
      "Epoch 74/150\n",
      "2/2 [==============================] - 0s 24ms/step - loss: 0.0747 - acc: 0.9714 - val_loss: 1.2919 - val_acc: 0.7037\n",
      "Epoch 75/150\n",
      "2/2 [==============================] - 0s 25ms/step - loss: 0.0408 - acc: 1.0000 - val_loss: 1.4692 - val_acc: 0.7037\n",
      "Epoch 76/150\n",
      "2/2 [==============================] - 0s 24ms/step - loss: 0.0807 - acc: 0.9810 - val_loss: 1.4383 - val_acc: 0.7037\n",
      "Epoch 77/150\n",
      "2/2 [==============================] - 0s 20ms/step - loss: 0.0320 - acc: 0.9905 - val_loss: 1.5897 - val_acc: 0.7037\n",
      "Epoch 78/150\n",
      "2/2 [==============================] - 0s 22ms/step - loss: 0.0465 - acc: 0.9905 - val_loss: 1.5234 - val_acc: 0.7037\n",
      "Epoch 79/150\n",
      "2/2 [==============================] - 0s 21ms/step - loss: 0.0241 - acc: 1.0000 - val_loss: 1.3852 - val_acc: 0.7407\n",
      "Epoch 80/150\n",
      "2/2 [==============================] - 0s 23ms/step - loss: 0.0356 - acc: 0.9905 - val_loss: 1.2156 - val_acc: 0.7037\n",
      "Epoch 81/150\n",
      "2/2 [==============================] - 0s 23ms/step - loss: 0.0176 - acc: 1.0000 - val_loss: 1.1664 - val_acc: 0.7407\n",
      "Epoch 82/150\n",
      "2/2 [==============================] - 0s 22ms/step - loss: 0.0281 - acc: 1.0000 - val_loss: 1.2342 - val_acc: 0.7037\n",
      "Epoch 83/150\n",
      "2/2 [==============================] - 0s 22ms/step - loss: 0.0273 - acc: 0.9905 - val_loss: 1.3998 - val_acc: 0.7407\n",
      "Epoch 84/150\n",
      "2/2 [==============================] - 0s 20ms/step - loss: 0.0195 - acc: 1.0000 - val_loss: 1.5426 - val_acc: 0.7037\n",
      "Epoch 85/150\n",
      "2/2 [==============================] - 0s 23ms/step - loss: 0.0287 - acc: 0.9905 - val_loss: 1.5379 - val_acc: 0.7037\n",
      "Epoch 86/150\n",
      "2/2 [==============================] - 0s 23ms/step - loss: 0.0156 - acc: 1.0000 - val_loss: 1.4717 - val_acc: 0.7037\n",
      "Epoch 87/150\n",
      "2/2 [==============================] - 0s 19ms/step - loss: 0.0153 - acc: 1.0000 - val_loss: 1.4828 - val_acc: 0.6667\n",
      "Epoch 88/150\n",
      "2/2 [==============================] - 0s 24ms/step - loss: 0.0202 - acc: 1.0000 - val_loss: 1.4356 - val_acc: 0.7037\n",
      "Epoch 89/150\n",
      "2/2 [==============================] - 0s 20ms/step - loss: 0.0150 - acc: 1.0000 - val_loss: 1.3559 - val_acc: 0.7037\n",
      "Epoch 90/150\n",
      "2/2 [==============================] - 0s 22ms/step - loss: 0.0136 - acc: 1.0000 - val_loss: 1.2638 - val_acc: 0.7407\n",
      "Epoch 91/150\n",
      "2/2 [==============================] - 0s 20ms/step - loss: 0.0149 - acc: 1.0000 - val_loss: 1.2826 - val_acc: 0.7037\n",
      "Epoch 92/150\n",
      "2/2 [==============================] - 0s 22ms/step - loss: 0.0102 - acc: 1.0000 - val_loss: 1.3597 - val_acc: 0.7407\n",
      "Epoch 93/150\n",
      "2/2 [==============================] - 0s 26ms/step - loss: 0.0116 - acc: 1.0000 - val_loss: 1.4150 - val_acc: 0.7407\n",
      "Epoch 94/150\n",
      "2/2 [==============================] - 0s 23ms/step - loss: 0.0082 - acc: 1.0000 - val_loss: 1.4504 - val_acc: 0.7037\n",
      "Epoch 95/150\n",
      "2/2 [==============================] - 0s 26ms/step - loss: 0.0149 - acc: 1.0000 - val_loss: 1.4813 - val_acc: 0.7037\n",
      "Epoch 96/150\n",
      "2/2 [==============================] - 0s 22ms/step - loss: 0.0115 - acc: 1.0000 - val_loss: 1.5052 - val_acc: 0.7407\n",
      "Epoch 97/150\n",
      "2/2 [==============================] - 0s 21ms/step - loss: 0.0083 - acc: 1.0000 - val_loss: 1.5344 - val_acc: 0.7407\n",
      "Epoch 98/150\n",
      "2/2 [==============================] - 0s 21ms/step - loss: 0.0076 - acc: 1.0000 - val_loss: 1.5740 - val_acc: 0.7037\n",
      "Epoch 99/150\n",
      "2/2 [==============================] - 0s 23ms/step - loss: 0.0089 - acc: 1.0000 - val_loss: 1.6065 - val_acc: 0.6667\n",
      "Epoch 100/150\n",
      "2/2 [==============================] - 0s 21ms/step - loss: 0.0179 - acc: 0.9905 - val_loss: 1.6872 - val_acc: 0.7037\n",
      "Epoch 101/150\n",
      "2/2 [==============================] - 0s 22ms/step - loss: 0.0085 - acc: 1.0000 - val_loss: 1.8315 - val_acc: 0.6667\n",
      "Epoch 102/150\n",
      "2/2 [==============================] - ETA: 0s - loss: 0.0080 - acc: 1.000 - 0s 24ms/step - loss: 0.0089 - acc: 1.0000 - val_loss: 1.8930 - val_acc: 0.6296\n",
      "Epoch 103/150\n",
      "2/2 [==============================] - 0s 21ms/step - loss: 0.0228 - acc: 0.9905 - val_loss: 1.6924 - val_acc: 0.7037\n",
      "Epoch 104/150\n",
      "2/2 [==============================] - 0s 23ms/step - loss: 0.0100 - acc: 1.0000 - val_loss: 1.5006 - val_acc: 0.7037\n",
      "Epoch 105/150\n",
      "2/2 [==============================] - 0s 22ms/step - loss: 0.0055 - acc: 1.0000 - val_loss: 1.3958 - val_acc: 0.7407\n",
      "Epoch 106/150\n",
      "2/2 [==============================] - 0s 25ms/step - loss: 0.0089 - acc: 1.0000 - val_loss: 1.3915 - val_acc: 0.7037\n",
      "Epoch 107/150\n",
      "2/2 [==============================] - 0s 22ms/step - loss: 0.0140 - acc: 1.0000 - val_loss: 1.4026 - val_acc: 0.7037\n",
      "Epoch 108/150\n",
      "2/2 [==============================] - 0s 23ms/step - loss: 0.0093 - acc: 1.0000 - val_loss: 1.4438 - val_acc: 0.7037\n",
      "Epoch 109/150\n",
      "2/2 [==============================] - 0s 18ms/step - loss: 0.0150 - acc: 0.9905 - val_loss: 1.5682 - val_acc: 0.7037\n",
      "Epoch 110/150\n",
      "2/2 [==============================] - 0s 19ms/step - loss: 0.0092 - acc: 1.0000 - val_loss: 1.6682 - val_acc: 0.7037\n",
      "Epoch 111/150\n",
      "2/2 [==============================] - 0s 20ms/step - loss: 0.0078 - acc: 1.0000 - val_loss: 1.7128 - val_acc: 0.7037\n",
      "Epoch 112/150\n",
      "2/2 [==============================] - 0s 21ms/step - loss: 0.0068 - acc: 1.0000 - val_loss: 1.7261 - val_acc: 0.7037\n",
      "Epoch 113/150\n",
      "2/2 [==============================] - 0s 20ms/step - loss: 0.0061 - acc: 1.0000 - val_loss: 1.7294 - val_acc: 0.7037\n",
      "Epoch 114/150\n",
      "2/2 [==============================] - 0s 20ms/step - loss: 0.0121 - acc: 1.0000 - val_loss: 1.7659 - val_acc: 0.6667\n",
      "Epoch 115/150\n",
      "2/2 [==============================] - 0s 20ms/step - loss: 0.0062 - acc: 1.0000 - val_loss: 1.9924 - val_acc: 0.5556\n",
      "Epoch 116/150\n",
      "2/2 [==============================] - 0s 19ms/step - loss: 0.0066 - acc: 1.0000 - val_loss: 2.1437 - val_acc: 0.6296\n",
      "Epoch 117/150\n",
      "2/2 [==============================] - 0s 24ms/step - loss: 0.0131 - acc: 0.9905 - val_loss: 1.9411 - val_acc: 0.6296\n",
      "Epoch 118/150\n",
      "2/2 [==============================] - 0s 19ms/step - loss: 0.0071 - acc: 1.0000 - val_loss: 1.7132 - val_acc: 0.6667\n",
      "Epoch 119/150\n",
      "2/2 [==============================] - 0s 20ms/step - loss: 0.0061 - acc: 1.0000 - val_loss: 1.5793 - val_acc: 0.7407\n",
      "Epoch 120/150\n",
      "2/2 [==============================] - 0s 21ms/step - loss: 0.0038 - acc: 1.0000 - val_loss: 1.5110 - val_acc: 0.7778\n",
      "Epoch 121/150\n",
      "2/2 [==============================] - 0s 23ms/step - loss: 0.0055 - acc: 1.0000 - val_loss: 1.4661 - val_acc: 0.7778\n",
      "Epoch 122/150\n",
      "2/2 [==============================] - 0s 21ms/step - loss: 0.0061 - acc: 1.0000 - val_loss: 1.4303 - val_acc: 0.7778\n",
      "Epoch 123/150\n",
      "2/2 [==============================] - 0s 19ms/step - loss: 0.0145 - acc: 1.0000 - val_loss: 1.4164 - val_acc: 0.7778\n",
      "Epoch 124/150\n",
      "2/2 [==============================] - 0s 23ms/step - loss: 0.0048 - acc: 1.0000 - val_loss: 1.5455 - val_acc: 0.7037\n"
     ]
    },
    {
     "name": "stdout",
     "output_type": "stream",
     "text": [
      "Epoch 125/150\n",
      "2/2 [==============================] - 0s 23ms/step - loss: 0.0050 - acc: 1.0000 - val_loss: 1.7648 - val_acc: 0.6296\n",
      "Epoch 126/150\n",
      "2/2 [==============================] - 0s 21ms/step - loss: 0.0060 - acc: 1.0000 - val_loss: 1.9392 - val_acc: 0.5926\n",
      "Epoch 127/150\n",
      "2/2 [==============================] - 0s 22ms/step - loss: 0.0051 - acc: 1.0000 - val_loss: 2.0582 - val_acc: 0.5926\n",
      "Epoch 128/150\n",
      "2/2 [==============================] - 0s 23ms/step - loss: 0.0140 - acc: 0.9905 - val_loss: 2.0380 - val_acc: 0.5926\n",
      "Epoch 129/150\n",
      "2/2 [==============================] - 0s 22ms/step - loss: 0.0045 - acc: 1.0000 - val_loss: 2.0049 - val_acc: 0.6296\n",
      "Epoch 130/150\n",
      "2/2 [==============================] - 0s 24ms/step - loss: 0.0047 - acc: 1.0000 - val_loss: 1.9606 - val_acc: 0.6667\n",
      "Epoch 131/150\n",
      "2/2 [==============================] - 0s 23ms/step - loss: 0.0064 - acc: 1.0000 - val_loss: 1.8813 - val_acc: 0.7037\n",
      "Epoch 132/150\n",
      "2/2 [==============================] - 0s 22ms/step - loss: 0.0064 - acc: 1.0000 - val_loss: 1.7929 - val_acc: 0.7407\n",
      "Epoch 133/150\n",
      "2/2 [==============================] - 0s 22ms/step - loss: 0.0039 - acc: 1.0000 - val_loss: 1.7296 - val_acc: 0.7407\n",
      "Epoch 134/150\n",
      "2/2 [==============================] - 0s 24ms/step - loss: 0.0037 - acc: 1.0000 - val_loss: 1.6826 - val_acc: 0.7407\n",
      "Epoch 135/150\n",
      "2/2 [==============================] - 0s 24ms/step - loss: 0.0048 - acc: 1.0000 - val_loss: 1.6544 - val_acc: 0.7407\n",
      "Epoch 136/150\n",
      "2/2 [==============================] - 0s 26ms/step - loss: 0.0032 - acc: 1.0000 - val_loss: 1.6358 - val_acc: 0.7037\n",
      "Epoch 137/150\n",
      "2/2 [==============================] - 0s 24ms/step - loss: 0.0044 - acc: 1.0000 - val_loss: 1.6308 - val_acc: 0.7037\n",
      "Epoch 138/150\n",
      "2/2 [==============================] - 0s 25ms/step - loss: 0.0036 - acc: 1.0000 - val_loss: 1.6320 - val_acc: 0.7037\n",
      "Epoch 139/150\n",
      "2/2 [==============================] - 0s 22ms/step - loss: 0.0038 - acc: 1.0000 - val_loss: 1.6385 - val_acc: 0.7037\n",
      "Epoch 140/150\n",
      "2/2 [==============================] - 0s 22ms/step - loss: 0.0036 - acc: 1.0000 - val_loss: 1.6488 - val_acc: 0.7037\n",
      "Epoch 141/150\n",
      "2/2 [==============================] - 0s 22ms/step - loss: 0.0031 - acc: 1.0000 - val_loss: 1.6628 - val_acc: 0.7037\n",
      "Epoch 142/150\n",
      "2/2 [==============================] - 0s 24ms/step - loss: 0.0035 - acc: 1.0000 - val_loss: 1.6776 - val_acc: 0.7037\n",
      "Epoch 143/150\n",
      "2/2 [==============================] - 0s 21ms/step - loss: 0.0037 - acc: 1.0000 - val_loss: 1.6808 - val_acc: 0.7407\n",
      "Epoch 144/150\n",
      "2/2 [==============================] - 0s 21ms/step - loss: 0.0036 - acc: 1.0000 - val_loss: 1.6866 - val_acc: 0.7407\n",
      "Epoch 145/150\n",
      "2/2 [==============================] - 0s 21ms/step - loss: 0.0046 - acc: 1.0000 - val_loss: 1.7156 - val_acc: 0.7037\n",
      "Epoch 146/150\n",
      "2/2 [==============================] - 0s 24ms/step - loss: 0.0030 - acc: 1.0000 - val_loss: 1.7742 - val_acc: 0.7037\n",
      "Epoch 147/150\n",
      "2/2 [==============================] - 0s 23ms/step - loss: 0.0031 - acc: 1.0000 - val_loss: 1.8227 - val_acc: 0.7037\n",
      "Epoch 148/150\n",
      "2/2 [==============================] - 0s 22ms/step - loss: 0.0028 - acc: 1.0000 - val_loss: 1.8548 - val_acc: 0.7037\n",
      "Epoch 149/150\n",
      "2/2 [==============================] - 0s 21ms/step - loss: 0.0029 - acc: 1.0000 - val_loss: 1.8767 - val_acc: 0.7037\n",
      "Epoch 150/150\n",
      "2/2 [==============================] - 0s 20ms/step - loss: 0.0030 - acc: 1.0000 - val_loss: 1.8921 - val_acc: 0.7037\n"
     ]
    }
   ],
   "source": [
    "from keras.callbacks import EarlyStopping \n",
    "from keras.callbacks import ModelCheckpoint\n",
    "#checkpoint = ModelCheckpoint(\"best_model.h5\",monitor = \"val_loss\",verbose= True,save_best_only = True)\n",
    "#earlystop= EarlyStopping(monitor = \"val_acc\",patience=10)\n",
    "hist = model.fit(embedding_matrix_train,Y_train,batch_size=64,epochs=150,shuffle=True,validation_split=0.2)"
   ]
  },
  {
   "cell_type": "code",
   "execution_count": 182,
   "metadata": {},
   "outputs": [],
   "source": [
    "pred = model.predict_classes(embedding_matrix_test)"
   ]
  },
  {
   "cell_type": "code",
   "execution_count": 183,
   "metadata": {},
   "outputs": [
    {
     "name": "stdout",
     "output_type": "stream",
     "text": [
      "2/2 [==============================] - 0s 3ms/step - loss: 2.3398 - acc: 0.5893\n"
     ]
    },
    {
     "data": {
      "text/plain": [
       "[2.3397772312164307, 0.5892857313156128]"
      ]
     },
     "execution_count": 183,
     "metadata": {},
     "output_type": "execute_result"
    }
   ],
   "source": [
    "model.evaluate(embedding_matrix_test,Y_test)"
   ]
  },
  {
   "cell_type": "code",
   "execution_count": 184,
   "metadata": {},
   "outputs": [
    {
     "name": "stdout",
     "output_type": "stream",
     "text": [
      "I want to eat\n",
      "🍴\n",
      "🍴\n",
      "he did not answer\n",
      "😞\n",
      "😞\n",
      "he got a raise\n",
      "😄\n",
      "😞\n",
      "she got me a present\n",
      "❤️\n",
      "😄\n",
      "ha ha ha it was so funny\n",
      "😄\n",
      "😄\n",
      "he is a good friend\n",
      "❤️\n",
      "😄\n",
      "I am upset\n",
      "❤️\n",
      "⚾\n",
      "We had such a lovely dinner tonight\n",
      "❤️\n",
      "😄\n",
      "where is the food\n",
      "🍴\n",
      "🍴\n",
      "Stop making this joke ha ha ha\n",
      "😄\n",
      "😄\n",
      "where is the ball\n",
      "⚾\n",
      "⚾\n",
      "work is hard\n",
      "😞\n",
      "😄\n",
      "This girl is messing with me\n",
      "😞\n",
      "❤️\n",
      "are you serious ha ha\n",
      "😄\n",
      "❤️\n",
      "Let us go play baseball\n",
      "⚾\n",
      "⚾\n",
      "This stupid grader is not working\n",
      "😞\n",
      "😞\n",
      "work is horrible\n",
      "😞\n",
      "😄\n",
      "Congratulation for having a baby\n",
      "😄\n",
      "😄\n",
      "stop messing around\n",
      "😞\n",
      "😞\n",
      "any suggestions for dinner\n",
      "🍴\n",
      "😄\n",
      "I love taking breaks\n",
      "❤️\n",
      "❤️\n",
      "you brighten my day\n",
      "😄\n",
      "❤️\n",
      "I boiled rice\n",
      "🍴\n",
      "🍴\n",
      "she is a bully\n",
      "😞\n",
      "❤️\n",
      "Why are you feeling bad\n",
      "😞\n",
      "😞\n",
      "I am upset\n",
      "😞\n",
      "⚾\n",
      "I worked during my birthday\n",
      "😞\n",
      "😄\n",
      "My grandmother is the love of my life\n",
      "❤️\n",
      "❤️\n",
      "enjoy your break\n",
      "😄\n",
      "🍴\n",
      "valentine day is near\n",
      "❤️\n",
      "😄\n"
     ]
    }
   ],
   "source": [
    "for i in range(30):\n",
    "    print(' '.join(X_test[i]))\n",
    "    print(emoji.emojize(emoji_dictionary[str(np.argmax(Y_test[i]))]))\n",
    "    print(emoji.emojize(emoji_dictionary[str(pred[i])]))"
   ]
  },
  {
   "cell_type": "code",
   "execution_count": null,
   "metadata": {},
   "outputs": [],
   "source": []
  },
  {
   "cell_type": "code",
   "execution_count": null,
   "metadata": {},
   "outputs": [],
   "source": []
  }
 ],
 "metadata": {
  "kernelspec": {
   "display_name": "Python 3",
   "language": "python",
   "name": "python3"
  },
  "language_info": {
   "codemirror_mode": {
    "name": "ipython",
    "version": 3
   },
   "file_extension": ".py",
   "mimetype": "text/x-python",
   "name": "python",
   "nbconvert_exporter": "python",
   "pygments_lexer": "ipython3",
   "version": "3.8.5"
  }
 },
 "nbformat": 4,
 "nbformat_minor": 4
}
